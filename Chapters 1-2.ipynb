{
 "cells": [
  {
   "cell_type": "code",
   "execution_count": null,
   "metadata": {},
   "outputs": [],
   "source": [
    "# 1.3 Manipulating Bytes\n",
    "a = 0b01001001\n",
    "a = a >> 1\n",
    "print(bin(a),a)"
   ]
  },
  {
   "cell_type": "code",
   "execution_count": null,
   "metadata": {},
   "outputs": [],
   "source": [
    "# 1.9 Tuple unpacking\n",
    "ex_list = [0,1,2,3,4,5]\n",
    "first, *middle, last = ex_list\n",
    "print(\"First:\",first,\"Middle:\", middle,\"Last:\", last)"
   ]
  },
  {
   "cell_type": "code",
   "execution_count": null,
   "metadata": {},
   "outputs": [],
   "source": [
    "# 1.16 Objects and Classes\n",
    "some_obj = list(range(10))\n",
    "print(\"Before:\",some_obj)\n",
    "print(\"Dir of List obj\", dir(some_obj))\n",
    "some_obj = some_obj.__add__([-10000]) # [range(10)] + [-10000]\n",
    "print(\"After:\",some_obj)"
   ]
  },
  {
   "cell_type": "code",
   "execution_count": null,
   "metadata": {},
   "outputs": [],
   "source": [
    "# 1.17 Modules\n",
    "import numpy as np\n",
    "print(\"First 10 items of numpy dir\", dir(np)[:10])"
   ]
  },
  {
   "cell_type": "code",
   "execution_count": null,
   "metadata": {},
   "outputs": [],
   "source": [
    "# 1.18 Script Writing\n",
    "print(\"Notebook Module Name (__name__):\", __name__)\n",
    "print(\"Numpy Module Name from import (__name__):\", np.__name__)"
   ]
  },
  {
   "cell_type": "markdown",
   "metadata": {},
   "source": [
    "# Chapter 2 Notes"
   ]
  },
  {
   "cell_type": "code",
   "execution_count": null,
   "metadata": {},
   "outputs": [],
   "source": [
    "# 2.2 Expressions and locations - Walrus Operator\n",
    "some_dict = {\"key1\":\"This exists!\"}\n",
    "\n",
    "# Check for existing key, actually outputs a value: \"This exists!\"\n",
    "if check := some_dict.get(\"key1\"):\n",
    "    print(check)\n",
    "\n",
    "# Check for absent key, returns None, check doesn't print None\n",
    "if check := some_dict.get(\"NoneExistantKey\"):\n",
    "    print(check)"
   ]
  },
  {
   "cell_type": "code",
   "execution_count": null,
   "metadata": {},
   "outputs": [],
   "source": [
    "# 2.5 Object Comparison\n",
    "a = [1,2] # First Obj\n",
    "a_ref = a # Save as reference\n",
    "b = [1,2] # Same values, diff object\n",
    "\n",
    "print(\"a is a_ref:\", a is a_ref, \"as a_ref points to a\")\n",
    "print(\"b is a_ref:\", b is a_ref, \"as a_ref points to a, b is a seperate list in another address\")\n",
    "print(\"b == a_ref and a == a_ref:\", b == a_ref and a == a_ref, \"because this checks values, not references to certain objects / memory\")"
   ]
  },
  {
   "cell_type": "code",
   "execution_count": null,
   "metadata": {},
   "outputs": [],
   "source": [
    "# 2.9 Operations Involving Iterables\n",
    "stocks = ((\"IBM\", \"Don't Care\",\"Mood\",\"Color\"),(\"9999\", \"whatever\")) # Tuple Dims: ((4),(2))\n",
    "((name, *dont_care),(price, *whatever)) = stocks\n",
    "print(\"From first tuple, name:\",name, \"*dont_care:\", dont_care)\n",
    "print(\"From second tuple, price:\",price, \"*whatever:\", whatever)"
   ]
  },
  {
   "cell_type": "code",
   "execution_count": null,
   "metadata": {},
   "outputs": [],
   "source": [
    "# 2.10 Operations on Sequences - Naming slices\n",
    "first_ten_two_step = slice(0,10,2) # Custom slice obj\n",
    "some_list = list(range(20))\n",
    "print(\"Using Manual Indexing:\", some_list[0:10:2])\n",
    "print(\"Using Customer Slicer:\", some_list[first_ten_two_step])"
   ]
  },
  {
   "cell_type": "code",
   "execution_count": null,
   "metadata": {},
   "outputs": [],
   "source": [
    "# 2.14 List, Set, and Dictionary Comprehension"
   ]
  },
  {
   "cell_type": "code",
   "execution_count": null,
   "metadata": {},
   "outputs": [],
   "source": [
    "# 2.15 Generator Expressions"
   ]
  },
  {
   "cell_type": "code",
   "execution_count": null,
   "metadata": {},
   "outputs": [],
   "source": []
  }
 ],
 "metadata": {
  "kernelspec": {
   "display_name": "base",
   "language": "python",
   "name": "python3"
  },
  "language_info": {
   "codemirror_mode": {
    "name": "ipython",
    "version": 3
   },
   "file_extension": ".py",
   "mimetype": "text/x-python",
   "name": "python",
   "nbconvert_exporter": "python",
   "pygments_lexer": "ipython3",
   "version": "3.9.7 (default, Sep 16 2021, 16:59:28) [MSC v.1916 64 bit (AMD64)]"
  },
  "orig_nbformat": 4,
  "vscode": {
   "interpreter": {
    "hash": "59b23a439ce858f6c48b87cdc3961c05fe34c6c004d414990b7e953144d53d79"
   }
  }
 },
 "nbformat": 4,
 "nbformat_minor": 2
}
