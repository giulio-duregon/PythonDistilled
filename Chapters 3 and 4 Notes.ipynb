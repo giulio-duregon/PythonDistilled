{
 "cells": [
  {
   "cell_type": "markdown",
   "metadata": {},
   "source": [
    "# Chapter 3: Program Structure and Control Flow"
   ]
  },
  {
   "cell_type": "code",
   "execution_count": null,
   "metadata": {},
   "outputs": [],
   "source": [
    "# 3.3 Loops and Iteration - Using Zip for Sequence Traversal\n",
    "x_list = [1,2,3,4]\n",
    "y_list = [5,6,7,8]\n",
    "\n",
    "# Worse Way\n",
    "for i in range(len(x_list)):\n",
    "    print(x_list[i],y_list[i])\n",
    "\n",
    "# Better Way\n",
    "for x, y in zip(x_list, y_list):\n",
    "    print(x, y)"
   ]
  },
  {
   "cell_type": "code",
   "execution_count": null,
   "metadata": {},
   "outputs": [],
   "source": [
    "# 3.4.3 Defining new expections\n",
    "class CustomException(Exception):\n",
    "    pass\n",
    "\n",
    "try:\n",
    "    raise CustomException(\"This is a custom Exception\")\n",
    "except CustomException as e:\n",
    "    print(e)"
   ]
  },
  {
   "cell_type": "code",
   "execution_count": null,
   "metadata": {},
   "outputs": [],
   "source": [
    "# 3.5 Custom Context Managers\n",
    "class ContextManagerExample:\n",
    "    def __init__(self, something):\n",
    "        self.something = something\n",
    "        \n",
    "    def __enter__(self):\n",
    "        print(\"Entering\")\n",
    "        return self # Needed to be able to save as something\n",
    "    \n",
    "    def __exit__(self, ty, val, tb): # Needs to have these 4 args else with statement throws error\n",
    "        print(\"Exiting\")\n",
    "        \n",
    "    def do_something(self):\n",
    "        print(f\"Printing self.something: {self.something}\")\n",
    "\n",
    "with ContextManagerExample(\"Hey Guys!\") as new_context:\n",
    "    new_context.do_something()"
   ]
  },
  {
   "cell_type": "markdown",
   "metadata": {},
   "source": [
    "# Chapter 4: Objects, Types, Protocols"
   ]
  },
  {
   "cell_type": "code",
   "execution_count": null,
   "metadata": {},
   "outputs": [],
   "source": [
    "# 4.2 Object Identity & Type - Multiple type checking\n",
    "def check_if_list_or_tuple(object):\n",
    "    return isinstance(object, (list,tuple))\n",
    "\n",
    "my_obs = [[1,2],(1,2),{\"Key\":\"Value\"}] # List, Tuple, Dict\n",
    "\n",
    "for obj in my_obs:\n",
    "    print(check_if_list_or_tuple(obj))"
   ]
  },
  {
   "cell_type": "code",
   "execution_count": null,
   "metadata": {},
   "outputs": [],
   "source": [
    "# 4.4 Shallow Copies and Deep Copies\n",
    "import copy\n",
    "orig = [[0,1],1,2]\n",
    "shallow = list(orig)\n",
    "deep = copy.deepcopy(orig)\n",
    "\n",
    "# Memory Address Testing\n",
    "print(\"Shallow is orig:\", shallow is orig)\n",
    "print(\"Deep is orig:\", deep is orig)\n",
    "\n",
    "# Mutate list at index 0\n",
    "shallow[0].append(10)\n",
    "print(\"Shallow[0]\", shallow[0],\"Orig[0]: \",orig[0], \"Deep[0]:\", deep[0])\n",
    "print(\"orig[0] is shallow[0]\", orig[0] is shallow[0])\n",
    "print(\"orig[0] is deep[0]\", orig[0] is deep[0])"
   ]
  },
  {
   "cell_type": "code",
   "execution_count": null,
   "metadata": {},
   "outputs": [],
   "source": [
    "# 4.5 repr\n",
    "class ReprExample:\n",
    "    def __init__(self, x,y,z):\n",
    "        self.x = x\n",
    "        self.y = y\n",
    "        self.z = z\n",
    "\n",
    "    def __repr__(self):\n",
    "        print(\"__repr__ called!\")\n",
    "        return f\"ReprExample(x={self.x},y={self.y},z={self.z})\"\n",
    "    \n",
    "    def __eq__(self, obj):\n",
    "        if isinstance(obj, ReprExample):\n",
    "            if self.x == obj.x and self.y == obj.y and self.z == obj.z:\n",
    "                return True\n",
    "        return False\n",
    "    \n",
    "obj = ReprExample(10,20,30)\n",
    "print(obj)"
   ]
  },
  {
   "cell_type": "code",
   "execution_count": null,
   "metadata": {},
   "outputs": [],
   "source": [
    "# 4.9 Object Protocol - __new__ vs __init__\n",
    "x = ReprExample.__new__(ReprExample,) # Give me a new ReprExample Object\n",
    "x.__init__(10,20,30)                  # Initialize it this way\n",
    "print(x)"
   ]
  },
  {
   "cell_type": "code",
   "execution_count": null,
   "metadata": {},
   "outputs": [],
   "source": [
    "# Fun Example of reinitializing an object from a string repr and redefining protocols for testing\n",
    "x_repr = str(x) # Saves ReprExample(x=10,y=20,z=30)\n",
    "y = eval(x_repr) # Runs ReprExample(x=10,y=20,z=30)\n",
    "print(\"x is y:\", x is y)\n",
    "print(\"x\",x)\n",
    "print(\"y\",y)\n",
    "print(y==x) # Returns true because of custom behavior implemented in cell above"
   ]
  }
 ],
 "metadata": {
  "interpreter": {
   "hash": "38cca0c38332a56087b24af0bc80247f4fced29cb4f7f437d91dc159adec9c4e"
  },
  "kernelspec": {
   "display_name": "Python 3.9.13 ('base')",
   "language": "python",
   "name": "python3"
  },
  "language_info": {
   "codemirror_mode": {
    "name": "ipython",
    "version": 3
   },
   "file_extension": ".py",
   "mimetype": "text/x-python",
   "name": "python",
   "nbconvert_exporter": "python",
   "pygments_lexer": "ipython3",
   "version": "3.9.13"
  },
  "orig_nbformat": 4
 },
 "nbformat": 4,
 "nbformat_minor": 2
}
