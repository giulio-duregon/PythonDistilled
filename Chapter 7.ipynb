{
 "cells": [
  {
   "cell_type": "code",
   "execution_count": null,
   "metadata": {},
   "outputs": [],
   "source": [
    "# 7.6 Operator Overloading and Protocols\n",
    "class Widget:\n",
    "    def __init__(self, name, items):\n",
    "        self.name = name\n",
    "        self.items = items\n",
    "        \n",
    "    def __len__(self):\n",
    "        return len(self.items)\n",
    "    \n",
    "    def __getitem__(self, index):\n",
    "        return self.items[index]\n",
    "    \n",
    "    def __repr__(self):\n",
    "        return f\"Widget(name={self.name}, items={self.items})\"\n",
    "    \n",
    "    def __iter__(self):\n",
    "        print(\"Calling __iter__ in Widget\")\n",
    "        return iter(self.items)\n",
    "\n",
    "# Example using len, indexing, iteration, and representation\n",
    "widget = Widget(\"Wrench\",range(5))\n",
    "print(widget)\n",
    "print(f\"Calling len: {len(widget)}, Getting index 0: {widget[1]}\")\n",
    "\n",
    "for i in widget:\n",
    "    continue"
   ]
  },
  {
   "cell_type": "code",
   "execution_count": 9,
   "metadata": {},
   "outputs": [],
   "source": [
    "# 7.12 Class Variables and Methods"
   ]
  },
  {
   "cell_type": "code",
   "execution_count": null,
   "metadata": {},
   "outputs": [],
   "source": [
    "# 7.13 Static Methods"
   ]
  },
  {
   "cell_type": "code",
   "execution_count": null,
   "metadata": {},
   "outputs": [],
   "source": [
    "# 7.17 Properties"
   ]
  },
  {
   "cell_type": "code",
   "execution_count": null,
   "metadata": {},
   "outputs": [],
   "source": [
    "# 7.20 Type Based Dispatch\n",
    "# 7.25 Internal Object Rewpresentation and Attribute Binding\n",
    "# 7.26 Proxies, Wrappers, Delegation\n",
    "# 7.27 Slots\n",
    "# 7.28 Descriptors\n",
    "# Meta Classes? (Maybe)"
   ]
  },
  {
   "cell_type": "code",
   "execution_count": null,
   "metadata": {},
   "outputs": [],
   "source": [
    "# Class methods\n",
    "class Human:\n",
    "    @classmethod\n",
    "    def from_type(cls, greeting):\n",
    "        return cls(greeting).greet()\n",
    "\n",
    "class Giulio(Human):\n",
    "    def __init__(self, name) -> None:\n",
    "        self.name_to_greet = name\n",
    "        \n",
    "    def greet(self):\n",
    "        print(self.__class__, f\"Says: {self.name_to_greet}!\")\n",
    "\n",
    "class Jonah(Human):\n",
    "    def __init__(self, name) -> None:\n",
    "        self.name_to_greet = name\n",
    "    def greet(self):\n",
    "        print(self.__class__, f\"Says: {self.name_to_greet}!\")\n",
    "\n",
    "class Joby(Human):\n",
    "    def __init__(self, name) -> None:\n",
    "        self.name_to_greet = name\n",
    "\n",
    "    def greet(self):\n",
    "        print(self.__class__, f\"Says: {self.name_to_greet}!\")\n",
    "\n",
    "class HumanCreator:\n",
    "\n",
    "    @classmethod\n",
    "    def from_type(cls, greeting):\n",
    "        return cls(greeting).greet()\n",
    "\n",
    "    def greet(self):\n",
    "        pass"
   ]
  },
  {
   "cell_type": "code",
   "execution_count": null,
   "metadata": {},
   "outputs": [],
   "source": []
  }
 ],
 "metadata": {
  "interpreter": {
   "hash": "38cca0c38332a56087b24af0bc80247f4fced29cb4f7f437d91dc159adec9c4e"
  },
  "kernelspec": {
   "display_name": "Python 3.9.13 ('base')",
   "language": "python",
   "name": "python3"
  },
  "language_info": {
   "codemirror_mode": {
    "name": "ipython",
    "version": 3
   },
   "file_extension": ".py",
   "mimetype": "text/x-python",
   "name": "python",
   "nbconvert_exporter": "python",
   "pygments_lexer": "ipython3",
   "version": "3.9.13"
  },
  "orig_nbformat": 4
 },
 "nbformat": 4,
 "nbformat_minor": 2
}
