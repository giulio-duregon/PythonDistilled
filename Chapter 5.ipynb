{
 "cells": [
  {
   "cell_type": "code",
   "execution_count": null,
   "metadata": {},
   "outputs": [],
   "source": [
    "# 5.3 Variadic Arguments\n",
    "def greet_many(greeting_prefix, *names):\n",
    "    for name in names:\n",
    "        print(f\"Hello, {greeting_prefix}.{name}!\")\n",
    "prefix = \"Mr.\"\n",
    "names = [\"Giulio\",\"Jonah\",\"Joby\"]\n",
    "greet_many(prefix, *names)\n",
    "greet_many(prefix, \"Rachel\",\"Taylor\",\"Jessica\")"
   ]
  },
  {
   "cell_type": "code",
   "execution_count": null,
   "metadata": {},
   "outputs": [],
   "source": [
    "# 5.5 Variadic Keyword arguments\n",
    "item = {\"Color\":\"Blue\",\"Size\":\"Large\",\"Cool?\":False}\n",
    "def adjust_settings(item, **kwargs):\n",
    "    new_color_setting = kwargs.pop(\"Color\", \"Red\")\n",
    "    new_size_setting = kwargs.pop(\"Size\",\"Medium\")\n",
    "    new_cool_setting = kwargs.pop(\"Cool?\",False)\n",
    "    print(f\"New Settings: {new_cool_setting},{new_color_setting},{new_size_setting}\")\n",
    "    \n",
    "adjust_settings(item,**{\"Size\":\"Large\"})"
   ]
  },
  {
   "cell_type": "code",
   "execution_count": null,
   "metadata": {},
   "outputs": [],
   "source": [
    "# Confusing yet interesting feature\n",
    "def add(a,b):\n",
    "    return a+b\n",
    "\n",
    "def print_result(func):\n",
    "    return func\n",
    "\n",
    "# Works the same\n",
    "print(print_result(add)(2,3))\n",
    "print(print_result(add(2,3)))"
   ]
  },
  {
   "cell_type": "code",
   "execution_count": null,
   "metadata": {},
   "outputs": [],
   "source": [
    "# 5.18 Decorators\n",
    "def timing(func, *args, **kwargs):\n",
    "    \"\"\"Custom Decorator to time functions, ignores function return value\"\"\"\n",
    "    from datetime import datetime\n",
    "    def print_timing_results(*args, **kwargs):\n",
    "        start = datetime.now()\n",
    "        func(*args, **kwargs)\n",
    "        end = datetime.now()\n",
    "        return end - start\n",
    "    return print_timing_results\n",
    "\n",
    "@timing\n",
    "def useless_loop(start,end,step=1):\n",
    "    sum =0\n",
    "    for i in range(start, end, step):\n",
    "        sum += i\n",
    "    return sum\n",
    "\n",
    "useless_loop(0,100_000_000,1)"
   ]
  },
  {
   "cell_type": "code",
   "execution_count": null,
   "metadata": {},
   "outputs": [],
   "source": [
    "# 5.23 Async Functions\n",
    "import asyncio\n",
    "async def add(a,b):\n",
    "    return a + b\n",
    "\n",
    "asyncio.run(add(5,3)) \n"
   ]
  }
 ],
 "metadata": {
  "interpreter": {
   "hash": "38cca0c38332a56087b24af0bc80247f4fced29cb4f7f437d91dc159adec9c4e"
  },
  "kernelspec": {
   "display_name": "Python 3.9.13 ('base')",
   "language": "python",
   "name": "python3"
  },
  "language_info": {
   "codemirror_mode": {
    "name": "ipython",
    "version": 3
   },
   "file_extension": ".py",
   "mimetype": "text/x-python",
   "name": "python",
   "nbconvert_exporter": "python",
   "pygments_lexer": "ipython3",
   "version": "3.9.13"
  },
  "orig_nbformat": 4
 },
 "nbformat": 4,
 "nbformat_minor": 2
}
