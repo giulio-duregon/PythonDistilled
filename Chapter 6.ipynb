{
 "cells": [
  {
   "cell_type": "code",
   "execution_count": null,
   "metadata": {},
   "outputs": [],
   "source": [
    "# Chapter 6 - Generators\n",
    "\n",
    "class CustomClass:\n",
    "    def __init__(self, a,b):\n",
    "        self.a = a\n",
    "        self.b = b\n",
    "        \n",
    "    def __iter__(self):\n",
    "        for i in range(self.a, self.b):\n",
    "            print(f\"About to yield: {i}\")\n",
    "            yield i\n",
    "            \n",
    "# Custom Iteration\n",
    "test_obj = CustomClass(0,4)\n",
    "for i in test_obj:\n",
    "    continue\n",
    "\n",
    "# What's happening under the hood\n",
    "iterable = CustomClass(0,5).__iter__()\n",
    "for i in range(2):\n",
    "    print(iterable.__next__())"
   ]
  }
 ],
 "metadata": {
  "kernelspec": {
   "display_name": "base",
   "language": "python",
   "name": "python3"
  },
  "language_info": {
   "codemirror_mode": {
    "name": "ipython",
    "version": 3
   },
   "file_extension": ".py",
   "mimetype": "text/x-python",
   "name": "python",
   "nbconvert_exporter": "python",
   "pygments_lexer": "ipython3",
   "version": "3.9.13"
  },
  "orig_nbformat": 4,
  "vscode": {
   "interpreter": {
    "hash": "59b23a439ce858f6c48b87cdc3961c05fe34c6c004d414990b7e953144d53d79"
   }
  }
 },
 "nbformat": 4,
 "nbformat_minor": 2
}
