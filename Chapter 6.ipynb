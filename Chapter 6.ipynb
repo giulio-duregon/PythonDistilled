{
 "cells": [
  {
   "cell_type": "code",
   "execution_count": 1,
   "metadata": {},
   "outputs": [],
   "source": [
    "# Chapter 6\n"
   ]
  },
  {
   "cell_type": "code",
   "execution_count": 29,
   "metadata": {},
   "outputs": [],
   "source": [
    "# Class methods\n",
    "class Human:\n",
    "    @classmethod\n",
    "    def from_type(cls, greeting):\n",
    "        return cls(greeting).greet()\n",
    "\n",
    "class Giulio(Human):\n",
    "    def __init__(self, name) -> None:\n",
    "        self.name_to_greet = name\n",
    "        \n",
    "    def greet(self):\n",
    "        print(self.__class__, f\"Says: {self.name_to_greet}!\")\n",
    "\n",
    "class Jonah(Human):\n",
    "    def __init__(self, name) -> None:\n",
    "        self.name_to_greet = name\n",
    "    def greet(self):\n",
    "        print(self.__class__, f\"Says: {self.name_to_greet}!\")\n",
    "\n",
    "class Joby(Human):\n",
    "    def __init__(self, name) -> None:\n",
    "        self.name_to_greet = name\n",
    "\n",
    "    def greet(self):\n",
    "        print(self.__class__, f\"Says: {self.name_to_greet}!\")\n",
    "\n",
    "class HumanCreator:\n",
    "\n",
    "    @classmethod\n",
    "    def from_type(cls, greeting):\n",
    "        return cls(greeting).greet()\n",
    "\n",
    "    def greet(self):\n",
    "        pass"
   ]
  },
  {
   "cell_type": "code",
   "execution_count": 30,
   "metadata": {},
   "outputs": [
    {
     "name": "stdout",
     "output_type": "stream",
     "text": [
      "<class '__main__.Giulio'> Says: Jonah!\n"
     ]
    }
   ],
   "source": [
    "Giulio.from_type(\"Jonah\")\n"
   ]
  },
  {
   "cell_type": "code",
   "execution_count": 21,
   "metadata": {},
   "outputs": [],
   "source": [
    "class ComplicatedObject:\n",
    "    def __init__(self, ctype, name) -> None:\n",
    "        self.human = HumanCreator.from_type(ctype,name)"
   ]
  },
  {
   "cell_type": "code",
   "execution_count": null,
   "metadata": {},
   "outputs": [],
   "source": []
  }
 ],
 "metadata": {
  "kernelspec": {
   "display_name": "base",
   "language": "python",
   "name": "python3"
  },
  "language_info": {
   "codemirror_mode": {
    "name": "ipython",
    "version": 3
   },
   "file_extension": ".py",
   "mimetype": "text/x-python",
   "name": "python",
   "nbconvert_exporter": "python",
   "pygments_lexer": "ipython3",
   "version": "3.9.7 (default, Sep 16 2021, 16:59:28) [MSC v.1916 64 bit (AMD64)]"
  },
  "orig_nbformat": 4,
  "vscode": {
   "interpreter": {
    "hash": "59b23a439ce858f6c48b87cdc3961c05fe34c6c004d414990b7e953144d53d79"
   }
  }
 },
 "nbformat": 4,
 "nbformat_minor": 2
}
